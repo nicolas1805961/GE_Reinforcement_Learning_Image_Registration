{
 "cells": [
  {
   "cell_type": "code",
   "execution_count": null,
   "metadata": {
    "colab": {
     "base_uri": "https://localhost:8080/"
    },
    "executionInfo": {
     "elapsed": 113180,
     "status": "ok",
     "timestamp": 1607978235340,
     "user": {
      "displayName": "Raphaël Dias-Monteiro",
      "photoUrl": "",
      "userId": "13070879165029858912"
     },
     "user_tz": -60
    },
    "id": "IDvLNenY9sg9",
    "outputId": "ec48f801-5506-4fb1-92f2-4c28a533b71c"
   },
   "outputs": [],
   "source": [
    "from google.colab import drive\n",
    "drive.mount('/content/drive', force_remount=True)"
   ]
  },
  {
   "cell_type": "code",
   "execution_count": null,
   "metadata": {},
   "outputs": [],
   "source": [
    "%cd '/content/drive/MyDrive/PFEE/scripts'"
   ]
  },
  {
   "cell_type": "markdown",
   "metadata": {
    "id": "yPY8tBH6lwoc"
   },
   "source": [
    "### Environment"
   ]
  },
  {
   "cell_type": "code",
   "execution_count": null,
   "metadata": {
    "id": "fJYHO5FslVnm"
   },
   "outputs": [],
   "source": [
    "import os\n",
    "\n",
    "import numpy as np\n",
    "\n",
    "from qvalues.qtable import Action, Q_table"
   ]
  },
  {
   "cell_type": "markdown",
   "metadata": {
    "id": "-95CCDYUmyJg"
   },
   "source": [
    "### Data directories"
   ]
  },
  {
   "cell_type": "code",
   "execution_count": null,
   "metadata": {
    "id": "gYqHj9WAm4kH"
   },
   "outputs": [],
   "source": [
    "data = '/content/drive/MyDrive/PFEE/00 - DATA/OUT'\n",
    "out = '/content/drive/MyDrive/PFEE/01 - QTABLE/OUT'"
   ]
  },
  {
   "cell_type": "markdown",
   "metadata": {
    "id": "r02yp6UPmI02"
   },
   "source": [
    "### Load the transformations"
   ]
  },
  {
   "cell_type": "code",
   "execution_count": null,
   "metadata": {
    "colab": {
     "base_uri": "https://localhost:8080/"
    },
    "executionInfo": {
     "elapsed": 1997,
     "status": "ok",
     "timestamp": 1607974470792,
     "user": {
      "displayName": "Raphaël Dias-Monteiro",
      "photoUrl": "",
      "userId": "13070879165029858912"
     },
     "user_tz": -60
    },
    "id": "lTf3F-WknMOg",
    "outputId": "c7e765ae-512a-48a8-8b8b-807faaaf217f"
   },
   "outputs": [],
   "source": [
    "transformations = np.load(os.path.join(data, '19-12-2020_16:20:08_transformations.npy'), allow_pickle=True)\n",
    "transformations.shape, transformations[0]"
   ]
  },
  {
   "cell_type": "markdown",
   "metadata": {
    "id": "hnOKsu1MoLlE"
   },
   "source": [
    "### Q-values"
   ]
  },
  {
   "cell_type": "markdown",
   "metadata": {
    "id": "2w1s0TmCr8q5"
   },
   "source": [
    "#### Generation"
   ]
  },
  {
   "cell_type": "code",
   "execution_count": null,
   "metadata": {
    "id": "ZLUrm6_XnlTa"
   },
   "outputs": [],
   "source": [
    "q_actions = Action.values()"
   ]
  },
  {
   "cell_type": "code",
   "execution_count": null,
   "metadata": {
    "colab": {
     "base_uri": "https://localhost:8080/"
    },
    "executionInfo": {
     "elapsed": 91054,
     "status": "ok",
     "timestamp": 1607974560494,
     "user": {
      "displayName": "Raphaël Dias-Monteiro",
      "photoUrl": "",
      "userId": "13070879165029858912"
     },
     "user_tz": -60
    },
    "id": "LVZjNCWSoJhD",
    "outputId": "b33a2197-62ee-4e26-dc71-c02401e32d42"
   },
   "outputs": [],
   "source": [
    "q_table = Q_table(q_actions)\n",
    "q_table.fit(transformations)"
   ]
  },
  {
   "cell_type": "markdown",
   "metadata": {
    "id": "qaawQuVarzF8"
   },
   "source": [
    "#### Visualization"
   ]
  },
  {
   "cell_type": "code",
   "execution_count": null,
   "metadata": {
    "colab": {
     "base_uri": "https://localhost:8080/",
     "height": 412
    },
    "executionInfo": {
     "elapsed": 88678,
     "status": "ok",
     "timestamp": 1607974560496,
     "user": {
      "displayName": "Raphaël Dias-Monteiro",
      "photoUrl": "",
      "userId": "13070879165029858912"
     },
     "user_tz": -60
    },
    "id": "uTinb0vaoYez",
    "outputId": "fbcec5cd-142b-42b8-e631-329d86d82481"
   },
   "outputs": [],
   "source": [
    "q_table.dataframe"
   ]
  },
  {
   "cell_type": "markdown",
   "metadata": {
    "id": "uzfZP-6Gr2Yl"
   },
   "source": [
    "#### Save data"
   ]
  },
  {
   "cell_type": "code",
   "execution_count": null,
   "metadata": {
    "id": "b5M9TX9ur1zx"
   },
   "outputs": [],
   "source": [
    "q_table.save(dirpath=out)"
   ]
  }
 ],
 "metadata": {
  "colab": {
   "authorship_tag": "ABX9TyMlFxckhuaCu92xdNPGYNPu",
   "collapsed_sections": [],
   "mount_file_id": "1L7a8KhfAY-TJSIwGfIDb2PbC4-VOIZpb",
   "name": "qvalues.ipynb",
   "provenance": [],
   "toc_visible": true
  },
  "kernelspec": {
   "display_name": "Python 3",
   "language": "python",
   "name": "python3"
  },
  "language_info": {
   "codemirror_mode": {
    "name": "ipython",
    "version": 3
   },
   "file_extension": ".py",
   "mimetype": "text/x-python",
   "name": "python",
   "nbconvert_exporter": "python",
   "pygments_lexer": "ipython3",
   "version": "3.8.6"
  },
  "pycharm": {
   "stem_cell": {
    "cell_type": "raw",
    "source": [
     "from google.colab import drive\n",
     "drive.mount('/content/drive', force_remount=True)\n",
     "\n"
    ],
    "metadata": {
     "collapsed": false
    }
   }
  }
 },
 "nbformat": 4,
 "nbformat_minor": 1
}