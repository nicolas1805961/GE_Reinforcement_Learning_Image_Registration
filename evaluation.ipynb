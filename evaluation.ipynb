{
  "nbformat": 4,
  "nbformat_minor": 0,
  "metadata": {
    "colab": {
      "name": "evaluation.ipynb",
      "provenance": [],
      "collapsed_sections": []
    },
    "kernelspec": {
      "name": "python3",
      "display_name": "Python 3"
    },
    "accelerator": "GPU"
  },
  "cells": [
    {
      "cell_type": "code",
      "metadata": {
        "id": "geqjWZjoqw6R"
      },
      "source": [
        "from google.colab import drive\n",
        "drive.mount('/content/drive', force_remount=True)"
      ],
      "execution_count": null,
      "outputs": []
    },
    {
      "cell_type": "code",
      "metadata": {
        "id": "yKT0u3OHqzjH"
      },
      "source": [
        "%cd '/content/drive/MyDrive/PFEE/scripts'"
      ],
      "execution_count": null,
      "outputs": []
    },
    {
      "cell_type": "code",
      "metadata": {
        "id": "OYVujDU95oOs"
      },
      "source": [
        "import os\n",
        "import torch\n",
        "\n",
        "import numpy as np\n",
        "\n",
        "from agent.registration import RegistrationAgent\n",
        "from datasets.dataset import DQNDataLoader, RegisterDQNDataset, TestDQNDataset\n"
      ],
      "execution_count": null,
      "outputs": []
    },
    {
      "cell_type": "code",
      "metadata": {
        "id": "tGai_sJR72Kw"
      },
      "source": [
        "data = '/content/drive/MyDrive/PFEE/00 - DATA/OUT'"
      ],
      "execution_count": null,
      "outputs": []
    },
    {
      "cell_type": "code",
      "metadata": {
        "id": "KTm40NfgEK2t"
      },
      "source": [
        "device = torch.device('cuda' if torch.cuda.is_available() else 'cpu')\n",
        "device"
      ],
      "execution_count": null,
      "outputs": []
    },
    {
      "cell_type": "code",
      "metadata": {
        "id": "UiZAFE0C4j4Y"
      },
      "source": [
        "patches1 = np.load(os.path.join(data, '19-12-2020_16:20:08_patches1.npy'), allow_pickle=True)\n",
        "patches2 = np.load(os.path.join(data, '19-12-2020_16:20:08_patches2.npy'), allow_pickle=True)\n",
        "transformations = np.load(os.path.join(data, '19-12-2020_16:20:08_transformations.npy'), allow_pickle=True)\n",
        "big_images = np.load(os.path.join(data, '19-12-2020_16:20:08_big_images.npy'), allow_pickle=True)\n",
        "rotations = np.load(os.path.join(data, '19-12-2020_16:20:08_rotations.npy'), allow_pickle=True)\n",
        "patches1.shape, patches2.shape, transformations.shape, big_images.shape, rotations.shape"
      ],
      "execution_count": null,
      "outputs": []
    },
    {
      "cell_type": "code",
      "metadata": {
        "id": "fXKHU0DJ5o0U"
      },
      "source": [
        "test_dataset = TestDQNDataset(patches1, patches2, big_images, rotations, transformations)\n",
        "test_generator = DQNDataLoader(test_dataset, batch_size=1, shuffle=False)"
      ],
      "execution_count": null,
      "outputs": []
    },
    {
      "cell_type": "code",
      "metadata": {
        "id": "DquSZwUxlaAI"
      },
      "source": [
        "agent = RegistrationAgent(1, 150, 150, device)\n",
        "agent.load('/content/drive/MyDrive/PFEE/dqn.pt')"
      ],
      "execution_count": null,
      "outputs": []
    },
    {
      "cell_type": "code",
      "metadata": {
        "id": "AVWgUri_yE3y"
      },
      "source": [
        "accuracy, rotation_distance, translation_distance, mean_rotation_distance, mean_translation_distance = agent.evaluate(test_generator)\n",
        "accuracy, rotation_distance, translation_distance, mean_rotation_distance, mean_translation_distance"
      ],
      "execution_count": null,
      "outputs": []
    },
    {
      "cell_type": "code",
      "metadata": {
        "id": "8dQPhSW0jm5e"
      },
      "source": [
        ""
      ],
      "execution_count": null,
      "outputs": []
    }
  ]
}