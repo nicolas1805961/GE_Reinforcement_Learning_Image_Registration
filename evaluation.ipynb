{
 "cells": [
  {
   "cell_type": "code",
   "execution_count": null,
   "metadata": {
    "id": "geqjWZjoqw6R"
   },
   "outputs": [],
   "source": [
    "from google.colab import drive\n",
    "drive.mount('/content/drive', force_remount=True)"
   ]
  },
  {
   "cell_type": "code",
   "execution_count": null,
   "metadata": {
    "id": "yKT0u3OHqzjH"
   },
   "outputs": [],
   "source": [
    "%cd '/content/drive/MyDrive/PFEE/scripts'"
   ]
  },
  {
   "cell_type": "code",
   "execution_count": null,
   "metadata": {
    "id": "OYVujDU95oOs"
   },
   "outputs": [],
   "source": [
    "import os\n",
    "import torch\n",
    "\n",
    "import numpy as np\n",
    "\n",
    "from agent.registration import RegistrationAgent\n",
    "from datasets.dataset import DQNDataLoader, RegisterDQNDataset, TestDQNDataset\n"
   ]
  },
  {
   "cell_type": "code",
   "execution_count": null,
   "metadata": {
    "id": "tGai_sJR72Kw"
   },
   "outputs": [],
   "source": [
    "data = '/content/drive/MyDrive/PFEE/00 - DATA/OUT'\n",
    "generated = '/content/drive/MyDrive/PFEE/generated'"
   ]
  },
  {
   "cell_type": "code",
   "execution_count": null,
   "metadata": {},
   "outputs": [],
   "source": [
    "size = 128\n",
    "big_size = 256"
   ]
  },
  {
   "cell_type": "code",
   "execution_count": null,
   "metadata": {
    "id": "KTm40NfgEK2t"
   },
   "outputs": [],
   "source": [
    "device = torch.device('cuda' if torch.cuda.is_available() else 'cpu')\n",
    "device"
   ]
  },
  {
   "cell_type": "code",
   "execution_count": null,
   "metadata": {},
   "outputs": [],
   "source": [
    "timestamp = 'DD-MM-YYYY_hh:mm:ss'\n",
    "patches1 = np.load(os.path.join(data, f'{timestamp}_patches1.npy'), allow_pickle=True)\n",
    "patches2 = np.load(os.path.join(data, f'{timestamp}_patches2.npy'), allow_pickle=True)\n",
    "transformations = np.load(os.path.join(data, f'{timestamp}_transformations.npy'), allow_pickle=True)\n",
    "big_images = np.load(os.path.join(data, f'{timestamp}_big_images.npy'), allow_pickle=True)\n",
    "rotations = np.load(os.path.join(data, f'{timestamp}_rotations.npy'), allow_pickle=True)\n",
    "patches1.shape, patches2.shape, transformations.shape, big_images.shape, rotations.shape"
   ]
  },
  {
   "cell_type": "code",
   "execution_count": null,
   "metadata": {
    "id": "fXKHU0DJ5o0U"
   },
   "outputs": [],
   "source": [
    "test_dataset = TestDQNDataset(patches1, patches2, big_images, rotations, transformations)\n",
    "test_generator = DQNDataLoader(test_dataset, batch_size=1, shuffle=False)"
   ]
  },
  {
   "cell_type": "code",
   "execution_count": null,
   "metadata": {
    "id": "DquSZwUxlaAI"
   },
   "outputs": [],
   "source": [
    "agent = RegistrationAgent(size, big_size, device)\n",
    "agent.load(os.path.join(generated, 'dqn.pt'))"
   ]
  },
  {
   "cell_type": "code",
   "execution_count": null,
   "metadata": {
    "id": "AVWgUri_yE3y"
   },
   "outputs": [],
   "source": [
    "accuracy, rotation_distance, translation_distance, mean_rotation_distance, mean_translation_distance = agent.evaluate(test_generator)\n",
    "accuracy, rotation_distance, translation_distance, mean_rotation_distance, mean_translation_distance"
   ]
  }
 ],
 "metadata": {
  "accelerator": "GPU",
  "colab": {
   "collapsed_sections": [],
   "name": "evaluation.ipynb",
   "provenance": []
  },
  "kernelspec": {
   "display_name": "Python 3",
   "language": "python",
   "name": "python3"
  },
  "language_info": {
   "codemirror_mode": {
    "name": "ipython",
    "version": 3
   },
   "file_extension": ".py",
   "mimetype": "text/x-python",
   "name": "python",
   "nbconvert_exporter": "python",
   "pygments_lexer": "ipython3",
   "version": "3.8.7"
  }
 },
 "nbformat": 4,
 "nbformat_minor": 1
}
