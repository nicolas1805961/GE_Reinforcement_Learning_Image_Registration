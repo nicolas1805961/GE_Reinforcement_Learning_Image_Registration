{
 "cells": [
  {
   "cell_type": "code",
   "execution_count": null,
   "metadata": {
    "id": "geqjWZjoqw6R"
   },
   "outputs": [],
   "source": [
    "from google.colab import drive\n",
    "drive.mount('/content/drive', force_remount=True)"
   ]
  },
  {
   "cell_type": "code",
   "execution_count": null,
   "metadata": {
    "id": "yKT0u3OHqzjH"
   },
   "outputs": [],
   "source": [
    "%cd '/content/drive/MyDrive/PFEE/scripts'"
   ]
  },
  {
   "cell_type": "code",
   "execution_count": null,
   "metadata": {
    "id": "OYVujDU95oOs"
   },
   "outputs": [],
   "source": [
    "import os\n",
    "import torch\n",
    "\n",
    "import numpy as np\n",
    "\n",
    "from agent.registration import RegistrationAgent\n",
    "from datasets.dataset import TrainDQNDataset, DQNDataLoader\n"
   ]
  },
  {
   "cell_type": "code",
   "execution_count": null,
   "metadata": {
    "id": "tGai_sJR72Kw"
   },
   "outputs": [],
   "source": [
    "data = '/content/drive/MyDrive/PFEE/00 - DATA/OUT'\n",
    "generated = '/content/drive/MyDrive/PFEE/generated'"
   ]
  },
  {
   "cell_type": "code",
   "execution_count": null,
   "metadata": {},
   "outputs": [],
   "source": [
    "size = 128"
   ]
  },
  {
   "cell_type": "code",
   "execution_count": null,
   "metadata": {
    "id": "KTm40NfgEK2t"
   },
   "outputs": [],
   "source": [
    "device = torch.device('cuda' if torch.cuda.is_available() else 'cpu')\n",
    "device"
   ]
  },
  {
   "cell_type": "code",
   "execution_count": null,
   "metadata": {
    "id": "UiZAFE0C4j4Y"
   },
   "outputs": [],
   "source": [
    "timestamp = 'DD-MM-YYYY_hh:mm:ss'\n",
    "patches1 = np.load(os.path.join(data, f'{timestamp}_patches1.npy'), allow_pickle=True)\n",
    "patches2 = np.load(os.path.join(data, f'{timestamp}_patches2.npy'), allow_pickle=True)\n",
    "transformations = np.load(os.path.join(data, f'{timestamp}_transformations.npy'), allow_pickle=True)\n",
    "big_images = np.load(os.path.join(data, f'{timestamp}_big_images.npy'), allow_pickle=True)\n",
    "rotations = np.load(os.path.join(data, f'{timestamp}_rotations.npy'), allow_pickle=True)\n",
    "patches1.shape, patches2.shape, transformations.shape, big_images.shape, rotations.shape"
   ]
  },
  {
   "cell_type": "code",
   "execution_count": null,
   "metadata": {
    "id": "Tz2mxROU5ov3"
   },
   "outputs": [],
   "source": [
    "qvalues = torch.load(os.path.join(generated, 'qvalues_training.pt')\n",
    "qvalues.shape"
   ]
  },
  {
   "cell_type": "code",
   "execution_count": null,
   "metadata": {
    "id": "fXKHU0DJ5o0U"
   },
   "outputs": [],
   "source": [
    "training_dataset = TrainDQNDataset(patches1, patches2, qvalues)\n",
    "training_generator = DQNDataLoader(training_dataset, batch_size=32, shuffle=True)"
   ]
  },
  {
   "cell_type": "code",
   "execution_count": null,
   "metadata": {},
   "outputs": [],
   "source": [
    "timestamp = 'DD-MM-YYYY_hh:mm:ss'\n",
    "patches1 = np.load(os.path.join(data, f'{timestamp}_patches1.npy'), allow_pickle=True)\n",
    "patches2 = np.load(os.path.join(data, f'{timestamp}_patches2.npy'), allow_pickle=True)\n",
    "transformations = np.load(os.path.join(data, f'{timestamp}_transformations.npy'), allow_pickle=True)\n",
    "big_images = np.load(os.path.join(data, f'{timestamp}_big_images.npy'), allow_pickle=True)\n",
    "rotations = np.load(os.path.join(data, f'{timestamp}_rotations.npy'), allow_pickle=True)\n",
    "patches1.shape, patches2.shape, transformations.shape, big_images.shape, rotations.shape"
   ]
  },
  {
   "cell_type": "code",
   "execution_count": null,
   "metadata": {},
   "outputs": [],
   "source": [
    "qvalues = torch.load(os.path.join(generated, 'qvalues_validation.pt')\n",
    "qvalues.shape"
   ]
  },
  {
   "cell_type": "code",
   "execution_count": null,
   "metadata": {},
   "outputs": [],
   "source": [
    "validation_dataset = TrainDQNDataset(patches1, patches2, qvalues)\n",
    "validation_generator = DQNDataLoader(validation_dataset, batch_size=32, shuffle=True)"
   ]
  },
  {
   "cell_type": "code",
   "execution_count": null,
   "metadata": {
    "id": "DquSZwUxlaAI"
   },
   "outputs": [],
   "source": [
    "agent = RegistrationAgent(1, size, size, device)"
   ]
  },
  {
   "cell_type": "code",
   "execution_count": null,
   "metadata": {
    "id": "mSY5IKdas29d"
   },
   "outputs": [],
   "source": [
    "agent.fit(training_generator, validation_generator, epochs=1)"
   ]
  },
  {
   "cell_type": "code",
   "execution_count": null,
   "metadata": {
    "id": "3cNixKjRFd0d"
   },
   "outputs": [],
   "source": [
    "agent.save(dirpath=generated)"
   ]
  }
 ],
 "metadata": {
  "accelerator": "GPU",
  "colab": {
   "collapsed_sections": [],
   "name": "training.ipynb",
   "provenance": []
  },
  "kernelspec": {
   "name": "python3",
   "display_name": "Python 3.9.1 64-bit",
   "metadata": {
    "interpreter": {
     "hash": "4cd7ab41f5fca4b9b44701077e38c5ffd31fe66a6cab21e0214b68d958d0e462"
    }
   }
  },
  "language_info": {
   "codemirror_mode": {
    "name": "ipython",
    "version": 3
   },
   "file_extension": ".py",
   "mimetype": "text/x-python",
   "name": "python",
   "nbconvert_exporter": "python",
   "pygments_lexer": "ipython3",
   "version": "3.9.1-final"
  }
 },
 "nbformat": 4,
 "nbformat_minor": 1
}